{
 "cells": [
  {
   "cell_type": "markdown",
   "metadata": {},
   "source": [
    "# Regrouping JSON with jq\n",
    "\n",
    "As a starting point, we have a JSON file where \n",
    "AWS accounts are enumerated, and each account has\n",
    "a list of regions defined."
   ]
  },
  {
   "cell_type": "code",
   "execution_count": 1,
   "metadata": {},
   "outputs": [
    {
     "name": "stdout",
     "output_type": "stream",
     "text": [
      "\u001b[1;39m[\n",
      "  \u001b[1;39m{\n",
      "    \u001b[0m\u001b[34;1m\"account\"\u001b[0m\u001b[1;39m: \u001b[0m\u001b[0;32m\"111111111111\"\u001b[0m\u001b[1;39m,\n",
      "    \u001b[0m\u001b[34;1m\"regions\"\u001b[0m\u001b[1;39m: \u001b[0m\u001b[1;39m[\n",
      "      \u001b[0;32m\"us-east-1\"\u001b[0m\u001b[1;39m,\n",
      "      \u001b[0;32m\"eu-central-1\"\u001b[0m\u001b[1;39m\n",
      "    \u001b[1;39m]\u001b[0m\u001b[1;39m\n",
      "  \u001b[1;39m}\u001b[0m\u001b[1;39m,\n",
      "  \u001b[1;39m{\n",
      "    \u001b[0m\u001b[34;1m\"account\"\u001b[0m\u001b[1;39m: \u001b[0m\u001b[0;32m\"222222222222\"\u001b[0m\u001b[1;39m,\n",
      "    \u001b[0m\u001b[34;1m\"regions\"\u001b[0m\u001b[1;39m: \u001b[0m\u001b[1;39m[\n",
      "      \u001b[0;32m\"us-west-2\"\u001b[0m\u001b[1;39m,\n",
      "      \u001b[0;32m\"us-east-1\"\u001b[0m\u001b[1;39m\n",
      "    \u001b[1;39m]\u001b[0m\u001b[1;39m\n",
      "  \u001b[1;39m}\u001b[0m\u001b[1;39m\n",
      "\u001b[1;39m]\u001b[0m\n"
     ]
    }
   ],
   "source": [
    "<input.json jq"
   ]
  },
  {
   "cell_type": "markdown",
   "metadata": {},
   "source": [
    "Our desired output is to have a JSON file where\n",
    "regions are enumerated, and each region has a list\n",
    "of accounts defined."
   ]
  },
  {
   "cell_type": "code",
   "execution_count": 2,
   "metadata": {},
   "outputs": [
    {
     "name": "stdout",
     "output_type": "stream",
     "text": [
      "\u001b[1;39m[\n",
      "  \u001b[1;39m{\n",
      "    \u001b[0m\u001b[34;1m\"accounts\"\u001b[0m\u001b[1;39m: \u001b[0m\u001b[1;39m[\n",
      "      \u001b[0;32m\"111111111111\"\u001b[0m\u001b[1;39m,\n",
      "      \u001b[0;32m\"222222222222\"\u001b[0m\u001b[1;39m\n",
      "    \u001b[1;39m]\u001b[0m\u001b[1;39m,\n",
      "    \u001b[0m\u001b[34;1m\"region\"\u001b[0m\u001b[1;39m: \u001b[0m\u001b[0;32m\"us-east-1\"\u001b[0m\u001b[1;39m\n",
      "  \u001b[1;39m}\u001b[0m\u001b[1;39m,\n",
      "  \u001b[1;39m{\n",
      "    \u001b[0m\u001b[34;1m\"accounts\"\u001b[0m\u001b[1;39m: \u001b[0m\u001b[1;39m[\n",
      "      \u001b[0;32m\"222222222222\"\u001b[0m\u001b[1;39m\n",
      "    \u001b[1;39m]\u001b[0m\u001b[1;39m,\n",
      "    \u001b[0m\u001b[34;1m\"region\"\u001b[0m\u001b[1;39m: \u001b[0m\u001b[0;32m\"us-west-2\"\u001b[0m\u001b[1;39m\n",
      "  \u001b[1;39m}\u001b[0m\u001b[1;39m\n",
      "\u001b[1;39m]\u001b[0m\n"
     ]
    }
   ],
   "source": [
    "<desired.json jq"
   ]
  },
  {
   "cell_type": "markdown",
   "metadata": {},
   "source": [
    "We will be capturing intermediate state in the `out` directory."
   ]
  },
  {
   "cell_type": "code",
   "execution_count": 3,
   "metadata": {},
   "outputs": [],
   "source": [
    "mkdir -p out"
   ]
  },
  {
   "cell_type": "markdown",
   "metadata": {},
   "source": [
    "## Ungrouping\n",
    "\n",
    "In it's initial form the input is grouped by accounts.\n",
    "\n",
    "We want to ungroup the data, and have a record for each account and region pair.\n",
    "\n",
    "First, for each element in the list, we take the `regions` list and start iterating over it (`.regions[]`), capturing the current value in the `$region`.\n",
    "\n",
    "We then construct an object for each `$region` with two fields: the .account field in the root object, and the actual $region in the iteration.\n",
    "\n",
    "If we were to do that in python it would look like this:\n",
    "\n",
    "```python\n",
    "result = []\n",
    "with open('input.json') as file:\n",
    "    items = json.load(file)\n",
    "    for item in items:\n",
    "        for region in item['regions']:\n",
    "            result.push({'account': item['account'], 'region': region})\n",
    "print(json.dumps(result, indent=4))\n",
    "```\n",
    "\n",
    "With jq we can do that in a bit more concise way."
   ]
  },
  {
   "cell_type": "code",
   "execution_count": 4,
   "metadata": {},
   "outputs": [
    {
     "name": "stdout",
     "output_type": "stream",
     "text": [
      "\u001b[1;39m[\n",
      "  \u001b[1;39m{\n",
      "    \u001b[0m\u001b[34;1m\"account\"\u001b[0m\u001b[1;39m: \u001b[0m\u001b[0;32m\"111111111111\"\u001b[0m\u001b[1;39m,\n",
      "    \u001b[0m\u001b[34;1m\"region\"\u001b[0m\u001b[1;39m: \u001b[0m\u001b[0;32m\"us-east-1\"\u001b[0m\u001b[1;39m\n",
      "  \u001b[1;39m}\u001b[0m\u001b[1;39m,\n",
      "  \u001b[1;39m{\n",
      "    \u001b[0m\u001b[34;1m\"account\"\u001b[0m\u001b[1;39m: \u001b[0m\u001b[0;32m\"111111111111\"\u001b[0m\u001b[1;39m,\n",
      "    \u001b[0m\u001b[34;1m\"region\"\u001b[0m\u001b[1;39m: \u001b[0m\u001b[0;32m\"eu-central-1\"\u001b[0m\u001b[1;39m\n",
      "  \u001b[1;39m}\u001b[0m\u001b[1;39m,\n",
      "  \u001b[1;39m{\n",
      "    \u001b[0m\u001b[34;1m\"account\"\u001b[0m\u001b[1;39m: \u001b[0m\u001b[0;32m\"222222222222\"\u001b[0m\u001b[1;39m,\n",
      "    \u001b[0m\u001b[34;1m\"region\"\u001b[0m\u001b[1;39m: \u001b[0m\u001b[0;32m\"us-west-2\"\u001b[0m\u001b[1;39m\n",
      "  \u001b[1;39m}\u001b[0m\u001b[1;39m,\n",
      "  \u001b[1;39m{\n",
      "    \u001b[0m\u001b[34;1m\"account\"\u001b[0m\u001b[1;39m: \u001b[0m\u001b[0;32m\"222222222222\"\u001b[0m\u001b[1;39m,\n",
      "    \u001b[0m\u001b[34;1m\"region\"\u001b[0m\u001b[1;39m: \u001b[0m\u001b[0;32m\"us-east-1\"\u001b[0m\u001b[1;39m\n",
      "  \u001b[1;39m}\u001b[0m\u001b[1;39m\n",
      "\u001b[1;39m]\u001b[0m\n"
     ]
    }
   ],
   "source": [
    "<input.json jq 'map(.regions[] as $region | {account, $region})' \\\n",
    "| tee out/step-1.json | jq"
   ]
  },
  {
   "cell_type": "markdown",
   "metadata": {},
   "source": [
    "# Regrouping\n",
    "Now that the data is ungrouped, we can move on to grouping it by region."
   ]
  },
  {
   "cell_type": "code",
   "execution_count": 5,
   "metadata": {},
   "outputs": [
    {
     "name": "stdout",
     "output_type": "stream",
     "text": [
      "\u001b[1;39m[\n",
      "  \u001b[1;39m[\n",
      "    \u001b[1;39m{\n",
      "      \u001b[0m\u001b[34;1m\"account\"\u001b[0m\u001b[1;39m: \u001b[0m\u001b[0;32m\"111111111111\"\u001b[0m\u001b[1;39m,\n",
      "      \u001b[0m\u001b[34;1m\"region\"\u001b[0m\u001b[1;39m: \u001b[0m\u001b[0;32m\"eu-central-1\"\u001b[0m\u001b[1;39m\n",
      "    \u001b[1;39m}\u001b[0m\u001b[1;39m\n",
      "  \u001b[1;39m]\u001b[0m\u001b[1;39m,\n",
      "  \u001b[1;39m[\n",
      "    \u001b[1;39m{\n",
      "      \u001b[0m\u001b[34;1m\"account\"\u001b[0m\u001b[1;39m: \u001b[0m\u001b[0;32m\"111111111111\"\u001b[0m\u001b[1;39m,\n",
      "      \u001b[0m\u001b[34;1m\"region\"\u001b[0m\u001b[1;39m: \u001b[0m\u001b[0;32m\"us-east-1\"\u001b[0m\u001b[1;39m\n",
      "    \u001b[1;39m}\u001b[0m\u001b[1;39m,\n",
      "    \u001b[1;39m{\n",
      "      \u001b[0m\u001b[34;1m\"account\"\u001b[0m\u001b[1;39m: \u001b[0m\u001b[0;32m\"222222222222\"\u001b[0m\u001b[1;39m,\n",
      "      \u001b[0m\u001b[34;1m\"region\"\u001b[0m\u001b[1;39m: \u001b[0m\u001b[0;32m\"us-east-1\"\u001b[0m\u001b[1;39m\n",
      "    \u001b[1;39m}\u001b[0m\u001b[1;39m\n",
      "  \u001b[1;39m]\u001b[0m\u001b[1;39m,\n",
      "  \u001b[1;39m[\n",
      "    \u001b[1;39m{\n",
      "      \u001b[0m\u001b[34;1m\"account\"\u001b[0m\u001b[1;39m: \u001b[0m\u001b[0;32m\"222222222222\"\u001b[0m\u001b[1;39m,\n",
      "      \u001b[0m\u001b[34;1m\"region\"\u001b[0m\u001b[1;39m: \u001b[0m\u001b[0;32m\"us-west-2\"\u001b[0m\u001b[1;39m\n",
      "    \u001b[1;39m}\u001b[0m\u001b[1;39m\n",
      "  \u001b[1;39m]\u001b[0m\u001b[1;39m\n",
      "\u001b[1;39m]\u001b[0m\n"
     ]
    }
   ],
   "source": [
    "<out/step-1.json jq 'group_by(.region)' \\\n",
    "| tee out/step-2.json | jq"
   ]
  },
  {
   "cell_type": "markdown",
   "metadata": {},
   "source": [
    "Next step is to merge records into a single one.\n",
    "\n",
    "We will create an `accounts` field, where all account numbers for a region are \n",
    "enumerated in a list.\n",
    "\n",
    "The region of a group we can take from the first element in that group, since all elements\n",
    "have the same region anyways."
   ]
  },
  {
   "cell_type": "code",
   "execution_count": 6,
   "metadata": {},
   "outputs": [
    {
     "name": "stdout",
     "output_type": "stream",
     "text": [
      "\u001b[1;39m[\n",
      "  \u001b[1;39m{\n",
      "    \u001b[0m\u001b[34;1m\"region\"\u001b[0m\u001b[1;39m: \u001b[0m\u001b[0;32m\"eu-central-1\"\u001b[0m\u001b[1;39m,\n",
      "    \u001b[0m\u001b[34;1m\"accounts\"\u001b[0m\u001b[1;39m: \u001b[0m\u001b[1;39m[\n",
      "      \u001b[0;32m\"111111111111\"\u001b[0m\u001b[1;39m\n",
      "    \u001b[1;39m]\u001b[0m\u001b[1;39m\n",
      "  \u001b[1;39m}\u001b[0m\u001b[1;39m,\n",
      "  \u001b[1;39m{\n",
      "    \u001b[0m\u001b[34;1m\"region\"\u001b[0m\u001b[1;39m: \u001b[0m\u001b[0;32m\"us-east-1\"\u001b[0m\u001b[1;39m,\n",
      "    \u001b[0m\u001b[34;1m\"accounts\"\u001b[0m\u001b[1;39m: \u001b[0m\u001b[1;39m[\n",
      "      \u001b[0;32m\"111111111111\"\u001b[0m\u001b[1;39m,\n",
      "      \u001b[0;32m\"222222222222\"\u001b[0m\u001b[1;39m\n",
      "    \u001b[1;39m]\u001b[0m\u001b[1;39m\n",
      "  \u001b[1;39m}\u001b[0m\u001b[1;39m,\n",
      "  \u001b[1;39m{\n",
      "    \u001b[0m\u001b[34;1m\"region\"\u001b[0m\u001b[1;39m: \u001b[0m\u001b[0;32m\"us-west-2\"\u001b[0m\u001b[1;39m,\n",
      "    \u001b[0m\u001b[34;1m\"accounts\"\u001b[0m\u001b[1;39m: \u001b[0m\u001b[1;39m[\n",
      "      \u001b[0;32m\"222222222222\"\u001b[0m\u001b[1;39m\n",
      "    \u001b[1;39m]\u001b[0m\u001b[1;39m\n",
      "  \u001b[1;39m}\u001b[0m\u001b[1;39m\n",
      "\u001b[1;39m]\u001b[0m\n"
     ]
    }
   ],
   "source": [
    "<out/step-2.json jq 'map({region: .[0].region, accounts: map(.account)})' \\\n",
    "| tee out/step-3.json | jq"
   ]
  },
  {
   "cell_type": "markdown",
   "metadata": {},
   "source": [
    "## Summary\n",
    "\n",
    "All of the above can be put into a single jq expression"
   ]
  },
  {
   "cell_type": "code",
   "execution_count": 7,
   "metadata": {},
   "outputs": [
    {
     "name": "stdout",
     "output_type": "stream",
     "text": [
      "\u001b[1;39m[\n",
      "  \u001b[1;39m{\n",
      "    \u001b[0m\u001b[34;1m\"accounts\"\u001b[0m\u001b[1;39m: \u001b[0m\u001b[1;39m[\n",
      "      \u001b[0;32m\"111111111111\"\u001b[0m\u001b[1;39m\n",
      "    \u001b[1;39m]\u001b[0m\u001b[1;39m,\n",
      "    \u001b[0m\u001b[34;1m\"region\"\u001b[0m\u001b[1;39m: \u001b[0m\u001b[0;32m\"eu-central-1\"\u001b[0m\u001b[1;39m\n",
      "  \u001b[1;39m}\u001b[0m\u001b[1;39m,\n",
      "  \u001b[1;39m{\n",
      "    \u001b[0m\u001b[34;1m\"accounts\"\u001b[0m\u001b[1;39m: \u001b[0m\u001b[1;39m[\n",
      "      \u001b[0;32m\"111111111111\"\u001b[0m\u001b[1;39m,\n",
      "      \u001b[0;32m\"222222222222\"\u001b[0m\u001b[1;39m\n",
      "    \u001b[1;39m]\u001b[0m\u001b[1;39m,\n",
      "    \u001b[0m\u001b[34;1m\"region\"\u001b[0m\u001b[1;39m: \u001b[0m\u001b[0;32m\"us-east-1\"\u001b[0m\u001b[1;39m\n",
      "  \u001b[1;39m}\u001b[0m\u001b[1;39m,\n",
      "  \u001b[1;39m{\n",
      "    \u001b[0m\u001b[34;1m\"accounts\"\u001b[0m\u001b[1;39m: \u001b[0m\u001b[1;39m[\n",
      "      \u001b[0;32m\"222222222222\"\u001b[0m\u001b[1;39m\n",
      "    \u001b[1;39m]\u001b[0m\u001b[1;39m,\n",
      "    \u001b[0m\u001b[34;1m\"region\"\u001b[0m\u001b[1;39m: \u001b[0m\u001b[0;32m\"us-west-2\"\u001b[0m\u001b[1;39m\n",
      "  \u001b[1;39m}\u001b[0m\u001b[1;39m\n",
      "\u001b[1;39m]\u001b[0m\n"
     ]
    }
   ],
   "source": [
    "<input.json jq '\n",
    "    map(\n",
    "        .regions[] as $region\n",
    "        | {\n",
    "            account,\n",
    "            $region\n",
    "        })\n",
    "    | group_by(.region)\n",
    "    | map({\n",
    "        accounts: map(.account), \n",
    "        region: .[0].region\n",
    "    })'"
   ]
  }
 ],
 "metadata": {
  "kernelspec": {
   "display_name": "Bash",
   "language": "bash",
   "name": "bash"
  },
  "language_info": {
   "codemirror_mode": "shell",
   "file_extension": ".sh",
   "mimetype": "text/x-sh",
   "name": "bash"
  }
 },
 "nbformat": 4,
 "nbformat_minor": 4
}
