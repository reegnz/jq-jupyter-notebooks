{
 "cells": [
  {
   "cell_type": "markdown",
   "metadata": {},
   "source": [
    "# Getting AWS ECR credentials into Kubernetes\n",
    "\n",
    "This is an imaginary response from the following command:\n",
    "\n",
    "```sh\n",
    "aws ecr get-authorization-token --registry-ids \"111111111111\" --region \"us-east-1\"\n",
    "aws ecr get-authorization-token --registry-ids \"222222222222\" --region \"us-east-1\"\n",
    "aws ecr get-authorization-token --registry-ids \"222222222222\" --region \"us-west-2\"\n",
    "```\n",
    "\n",
    "It's output looks something like this (account id-s and token data got sanitized for this exercise):"
   ]
  },
  {
   "cell_type": "code",
   "execution_count": 1,
   "metadata": {},
   "outputs": [
    {
     "name": "stdout",
     "output_type": "stream",
     "text": [
      "\u001b[1;39m{\n",
      "  \u001b[0m\u001b[34;1m\"authorizationData\"\u001b[0m\u001b[1;39m: \u001b[0m\u001b[1;39m[\n",
      "    \u001b[1;39m{\n",
      "      \u001b[0m\u001b[34;1m\"authorizationToken\"\u001b[0m\u001b[1;39m: \u001b[0m\u001b[0;32m\"QVdTOmV5SndZWGxzYjJGa0lqb2lXRmhZV0ZoWVdGZ2lMQ0prWVhSaGEyVjVJam9pV1ZsWldWbFpXVmtpTENKMlpYSnphVzl1SWpvaU1pSXNJblI1Y0dVaU9pSkVRVlJCWDB0RldTSXNJbVY0Y0dseVlYUnBiMjRpT2pFMU9EQXlOek13TkRaOQ==\"\u001b[0m\u001b[1;39m,\n",
      "      \u001b[0m\u001b[34;1m\"expiresAt\"\u001b[0m\u001b[1;39m: \u001b[0m\u001b[0;39m158164069.791\u001b[0m\u001b[1;39m,\n",
      "      \u001b[0m\u001b[34;1m\"proxyEndpoint\"\u001b[0m\u001b[1;39m: \u001b[0m\u001b[0;32m\"https://111111111111.dkr.ecr.us-east-1.amazonaws.com\"\u001b[0m\u001b[1;39m\n",
      "    \u001b[1;39m}\u001b[0m\u001b[1;39m\n",
      "  \u001b[1;39m]\u001b[0m\u001b[1;39m\n",
      "\u001b[1;39m}\u001b[0m\n",
      "\u001b[1;39m{\n",
      "  \u001b[0m\u001b[34;1m\"authorizationData\"\u001b[0m\u001b[1;39m: \u001b[0m\u001b[1;39m[\n",
      "    \u001b[1;39m{\n",
      "      \u001b[0m\u001b[34;1m\"authorizationToken\"\u001b[0m\u001b[1;39m: \u001b[0m\u001b[0;32m\"QVdTOmV5SndZWGxzYjJGa0lqb2lXRmhZV0ZoWVdGZ2lMQ0prWVhSaGEyVjVJam9pV1ZsWldWbFpXVmtpTENKMlpYSnphVzl1SWpvaU1pSXNJblI1Y0dVaU9pSkVRVlJCWDB0RldTSXNJbVY0Y0dseVlYUnBiMjRpT2pFMU9EQXlOek13TkRaOQ==\"\u001b[0m\u001b[1;39m,\n",
      "      \u001b[0m\u001b[34;1m\"expiresAt\"\u001b[0m\u001b[1;39m: \u001b[0m\u001b[0;39m158164069.791\u001b[0m\u001b[1;39m,\n",
      "      \u001b[0m\u001b[34;1m\"proxyEndpoint\"\u001b[0m\u001b[1;39m: \u001b[0m\u001b[0;32m\"https://222222222222.dkr.ecr.us-east-1.amazonaws.com\"\u001b[0m\u001b[1;39m\n",
      "    \u001b[1;39m}\u001b[0m\u001b[1;39m\n",
      "  \u001b[1;39m]\u001b[0m\u001b[1;39m\n",
      "\u001b[1;39m}\u001b[0m\n",
      "\u001b[1;39m{\n",
      "  \u001b[0m\u001b[34;1m\"authorizationData\"\u001b[0m\u001b[1;39m: \u001b[0m\u001b[1;39m[\n",
      "    \u001b[1;39m{\n",
      "      \u001b[0m\u001b[34;1m\"authorizationToken\"\u001b[0m\u001b[1;39m: \u001b[0m\u001b[0;32m\"QVdTOmV5SndZWGxzYjJGa0lqb2lXRmhZV0ZoWVdGZ2lMQ0prWVhSaGEyVjVJam9pV1ZsWldWbFpXVmtpTENKMlpYSnphVzl1SWpvaU1pSXNJblI1Y0dVaU9pSkVRVlJCWDB0RldTSXNJbVY0Y0dseVlYUnBiMjRpT2pFMU9EQXlOek13TkRkOQ==\"\u001b[0m\u001b[1;39m,\n",
      "      \u001b[0m\u001b[34;1m\"expiresAt\"\u001b[0m\u001b[1;39m: \u001b[0m\u001b[0;39m158164069.791\u001b[0m\u001b[1;39m,\n",
      "      \u001b[0m\u001b[34;1m\"proxyEndpoint\"\u001b[0m\u001b[1;39m: \u001b[0m\u001b[0;32m\"https://222222222222.dkr.ecr.us-west-2.amazonaws.com\"\u001b[0m\u001b[1;39m\n",
      "    \u001b[1;39m}\u001b[0m\u001b[1;39m\n",
      "  \u001b[1;39m]\u001b[0m\u001b[1;39m\n",
      "\u001b[1;39m}\u001b[0m\n"
     ]
    }
   ],
   "source": [
    "<input.json jq"
   ]
  },
  {
   "cell_type": "markdown",
   "metadata": {},
   "source": [
    "We want to produce from this a single kubernetes secret that would look something like this:"
   ]
  },
  {
   "cell_type": "code",
   "execution_count": 2,
   "metadata": {},
   "outputs": [
    {
     "name": "stdout",
     "output_type": "stream",
     "text": [
      "\u001b[1;39m{\n",
      "  \u001b[0m\u001b[34;1m\"apiVersion\"\u001b[0m\u001b[1;39m: \u001b[0m\u001b[0;32m\"v1\"\u001b[0m\u001b[1;39m,\n",
      "  \u001b[0m\u001b[34;1m\"kind\"\u001b[0m\u001b[1;39m: \u001b[0m\u001b[0;32m\"Secret\"\u001b[0m\u001b[1;39m,\n",
      "  \u001b[0m\u001b[34;1m\"type\"\u001b[0m\u001b[1;39m: \u001b[0m\u001b[0;32m\"kubernetes.io/dockerconfigjson\"\u001b[0m\u001b[1;39m,\n",
      "  \u001b[0m\u001b[34;1m\"metadata\"\u001b[0m\u001b[1;39m: \u001b[0m\u001b[1;39m{\n",
      "    \u001b[0m\u001b[34;1m\"name\"\u001b[0m\u001b[1;39m: \u001b[0m\u001b[0;32m\"aws-creds\"\u001b[0m\u001b[1;39m\n",
      "  \u001b[1;39m}\u001b[0m\u001b[1;39m,\n",
      "  \u001b[0m\u001b[34;1m\"data\"\u001b[0m\u001b[1;39m: \u001b[0m\u001b[1;39m{\n",
      "    \u001b[0m\u001b[34;1m\".dockerconfigjson\"\u001b[0m\u001b[1;39m: \u001b[0m\u001b[0;32m\"eyJhdXRocyI6eyJodHRwczovLzExMTExMTExMTExMS5ka3IuZWNyLnVzLWVhc3QtMS5hbWF6b25hd3MuY29tIjp7InVzZXJuYW1lIjoiQVdTIiwicGFzc3dvcmQiOiJleUp3WVhsc2IyRmtJam9pV0ZoWVdGaFlXRmdpTENKa1lYUmhhMlY1SWpvaVdWbFpXVmxaV1ZraUxDSjJaWEp6YVc5dUlqb2lNaUlzSW5SNWNHVWlPaUpFUVZSQlgwdEZXU0lzSW1WNGNHbHlZWFJwYjI0aU9qRTFPREF5TnpNd05EWjkiLCJlbWFpbCI6Im5vbmUiLCJhdXRoIjoiUVZkVE9tVjVTbmRaV0d4ellqSkdhMGxxYjJsWFJtaFpWMFpvV1ZkR1oybE1RMHByV1ZoU2FHRXlWalZKYW05cFYxWnNXbGRXYkZwWFZtdHBURU5LTWxwWVNucGhWemwxU1dwdmFVMXBTWE5KYmxJMVkwZFZhVTlwU2tWUlZsSkNXREIwUmxkVFNYTkpiVlkwWTBkc2VWbFlVbkJpTWpScFQycEZNVTlFUVhsT2VrMTNUa1JhT1E9PSJ9LCJodHRwczovLzIyMjIyMjIyMjIyMi5ka3IuZWNyLnVzLWVhc3QtMS5hbWF6b25hd3MuY29tIjp7InVzZXJuYW1lIjoiQVdTIiwicGFzc3dvcmQiOiJleUp3WVhsc2IyRmtJam9pV0ZoWVdGaFlXRmdpTENKa1lYUmhhMlY1SWpvaVdWbFpXVmxaV1ZraUxDSjJaWEp6YVc5dUlqb2lNaUlzSW5SNWNHVWlPaUpFUVZSQlgwdEZXU0lzSW1WNGNHbHlZWFJwYjI0aU9qRTFPREF5TnpNd05EWjkiLCJlbWFpbCI6Im5vbmUiLCJhdXRoIjoiUVZkVE9tVjVTbmRaV0d4ellqSkdhMGxxYjJsWFJtaFpWMFpvV1ZkR1oybE1RMHByV1ZoU2FHRXlWalZKYW05cFYxWnNXbGRXYkZwWFZtdHBURU5LTWxwWVNucGhWemwxU1dwdmFVMXBTWE5KYmxJMVkwZFZhVTlwU2tWUlZsSkNXREIwUmxkVFNYTkpiVlkwWTBkc2VWbFlVbkJpTWpScFQycEZNVTlFUVhsT2VrMTNUa1JhT1E9PSJ9LCJodHRwczovLzIyMjIyMjIyMjIyMi5ka3IuZWNyLnVzLXdlc3QtMi5hbWF6b25hd3MuY29tIjp7InVzZXJuYW1lIjoiQVdTIiwicGFzc3dvcmQiOiJleUp3WVhsc2IyRmtJam9pV0ZoWVdGaFlXRmdpTENKa1lYUmhhMlY1SWpvaVdWbFpXVmxaV1ZraUxDSjJaWEp6YVc5dUlqb2lNaUlzSW5SNWNHVWlPaUpFUVZSQlgwdEZXU0lzSW1WNGNHbHlZWFJwYjI0aU9qRTFPREF5TnpNd05EZDkiLCJlbWFpbCI6Im5vbmUiLCJhdXRoIjoiUVZkVE9tVjVTbmRaV0d4ellqSkdhMGxxYjJsWFJtaFpWMFpvV1ZkR1oybE1RMHByV1ZoU2FHRXlWalZKYW05cFYxWnNXbGRXYkZwWFZtdHBURU5LTWxwWVNucGhWemwxU1dwdmFVMXBTWE5KYmxJMVkwZFZhVTlwU2tWUlZsSkNXREIwUmxkVFNYTkpiVlkwWTBkc2VWbFlVbkJpTWpScFQycEZNVTlFUVhsT2VrMTNUa1JrT1E9PSJ9fX0=\"\u001b[0m\u001b[1;39m\n",
      "  \u001b[1;39m}\u001b[0m\u001b[1;39m\n",
      "\u001b[1;39m}\u001b[0m\n"
     ]
    }
   ],
   "source": [
    "<desired.json jq"
   ]
  },
  {
   "cell_type": "markdown",
   "metadata": {},
   "source": [
    "## Inspecting the input\n",
    "\n",
    "First we create a directory for our temporary data:"
   ]
  },
  {
   "cell_type": "code",
   "execution_count": 3,
   "metadata": {},
   "outputs": [],
   "source": [
    "mkdir -p out"
   ]
  },
  {
   "cell_type": "markdown",
   "metadata": {},
   "source": [
    "Let's start inspecting the first token we get:"
   ]
  },
  {
   "cell_type": "code",
   "execution_count": 4,
   "metadata": {},
   "outputs": [
    {
     "name": "stdout",
     "output_type": "stream",
     "text": [
      "\u001b[1;39m{\n",
      "  \u001b[0m\u001b[34;1m\"authorizationToken\"\u001b[0m\u001b[1;39m: \u001b[0m\u001b[0;32m\"QVdTOmV5SndZWGxzYjJGa0lqb2lXRmhZV0ZoWVdGZ2lMQ0prWVhSaGEyVjVJam9pV1ZsWldWbFpXVmtpTENKMlpYSnphVzl1SWpvaU1pSXNJblI1Y0dVaU9pSkVRVlJCWDB0RldTSXNJbVY0Y0dseVlYUnBiMjRpT2pFMU9EQXlOek13TkRaOQ==\"\u001b[0m\u001b[1;39m,\n",
      "  \u001b[0m\u001b[34;1m\"expiresAt\"\u001b[0m\u001b[1;39m: \u001b[0m\u001b[0;39m158164069.791\u001b[0m\u001b[1;39m,\n",
      "  \u001b[0m\u001b[34;1m\"proxyEndpoint\"\u001b[0m\u001b[1;39m: \u001b[0m\u001b[0;32m\"https://111111111111.dkr.ecr.us-east-1.amazonaws.com\"\u001b[0m\u001b[1;39m\n",
      "\u001b[1;39m}\u001b[0m\n"
     ]
    }
   ],
   "source": [
    "<input.json jq -s '[.[][][]][0]' | tee out/1.json | jq"
   ]
  },
  {
   "cell_type": "markdown",
   "metadata": {},
   "source": [
    " This token seems base64 encoded, let's see what it contains:"
   ]
  },
  {
   "cell_type": "code",
   "execution_count": 5,
   "metadata": {},
   "outputs": [
    {
     "name": "stdout",
     "output_type": "stream",
     "text": [
      "\u001b[1;39m{\n",
      "  \u001b[0m\u001b[34;1m\"authorizationToken\"\u001b[0m\u001b[1;39m: \u001b[0m\u001b[0;32m\"AWS:eyJwYXlsb2FkIjoiWFhYWFhYWFgiLCJkYXRha2V5IjoiWVlZWVlZWVkiLCJ2ZXJzaW9uIjoiMiIsInR5cGUiOiJEQVRBX0tFWSIsImV4cGlyYXRpb24iOjE1ODAyNzMwNDZ9\"\u001b[0m\u001b[1;39m,\n",
      "  \u001b[0m\u001b[34;1m\"expiresAt\"\u001b[0m\u001b[1;39m: \u001b[0m\u001b[0;39m158164069.791\u001b[0m\u001b[1;39m,\n",
      "  \u001b[0m\u001b[34;1m\"proxyEndpoint\"\u001b[0m\u001b[1;39m: \u001b[0m\u001b[0;32m\"https://111111111111.dkr.ecr.us-east-1.amazonaws.com\"\u001b[0m\u001b[1;39m\n",
      "\u001b[1;39m}\u001b[0m\n"
     ]
    }
   ],
   "source": [
    "<out/1.json jq '.authorizationToken |= @base64d' | tee out/2.json | jq"
   ]
  },
  {
   "cell_type": "markdown",
   "metadata": {},
   "source": [
    "It seems like it's some AWS token!\n",
    "If we inspect the output of the `aws ecr get-login` command, we'll see that the username is \"AWS\", so that second part must be the password we can use for docker login.\n",
    "Let's see if the second part is base64 encoding:"
   ]
  },
  {
   "cell_type": "code",
   "execution_count": 6,
   "metadata": {},
   "outputs": [
    {
     "name": "stdout",
     "output_type": "stream",
     "text": [
      "\u001b[1;39m{\n",
      "  \u001b[0m\u001b[34;1m\"authorizationToken\"\u001b[0m\u001b[1;39m: \u001b[0m\u001b[0;32m\"{\\\"payload\\\":\\\"XXXXXXXX\\\",\\\"datakey\\\":\\\"YYYYYYYY\\\",\\\"version\\\":\\\"2\\\",\\\"type\\\":\\\"DATA_KEY\\\",\\\"expiration\\\":1580273046}\"\u001b[0m\u001b[1;39m,\n",
      "  \u001b[0m\u001b[34;1m\"expiresAt\"\u001b[0m\u001b[1;39m: \u001b[0m\u001b[0;39m158164069.791\u001b[0m\u001b[1;39m,\n",
      "  \u001b[0m\u001b[34;1m\"proxyEndpoint\"\u001b[0m\u001b[1;39m: \u001b[0m\u001b[0;32m\"https://111111111111.dkr.ecr.us-east-1.amazonaws.com\"\u001b[0m\u001b[1;39m\n",
      "\u001b[1;39m}\u001b[0m\n"
     ]
    }
   ],
   "source": [
    "<out/2.json jq '.authorizationToken |= (split(\":\")[1]|@base64d)' | tee out/3.json | jq"
   ]
  },
  {
   "cell_type": "markdown",
   "metadata": {},
   "source": [
    "Seems like it's some sort of JSON payload. Let's parse it."
   ]
  },
  {
   "cell_type": "code",
   "execution_count": 7,
   "metadata": {},
   "outputs": [
    {
     "name": "stdout",
     "output_type": "stream",
     "text": [
      "\u001b[1;39m{\n",
      "  \u001b[0m\u001b[34;1m\"authorizationToken\"\u001b[0m\u001b[1;39m: \u001b[0m\u001b[1;39m{\n",
      "    \u001b[0m\u001b[34;1m\"payload\"\u001b[0m\u001b[1;39m: \u001b[0m\u001b[0;32m\"XXXXXXXX\"\u001b[0m\u001b[1;39m,\n",
      "    \u001b[0m\u001b[34;1m\"datakey\"\u001b[0m\u001b[1;39m: \u001b[0m\u001b[0;32m\"YYYYYYYY\"\u001b[0m\u001b[1;39m,\n",
      "    \u001b[0m\u001b[34;1m\"version\"\u001b[0m\u001b[1;39m: \u001b[0m\u001b[0;32m\"2\"\u001b[0m\u001b[1;39m,\n",
      "    \u001b[0m\u001b[34;1m\"type\"\u001b[0m\u001b[1;39m: \u001b[0m\u001b[0;32m\"DATA_KEY\"\u001b[0m\u001b[1;39m,\n",
      "    \u001b[0m\u001b[34;1m\"expiration\"\u001b[0m\u001b[1;39m: \u001b[0m\u001b[0;39m1580273046\u001b[0m\u001b[1;39m\n",
      "  \u001b[1;39m}\u001b[0m\u001b[1;39m,\n",
      "  \u001b[0m\u001b[34;1m\"expiresAt\"\u001b[0m\u001b[1;39m: \u001b[0m\u001b[0;39m158164069.791\u001b[0m\u001b[1;39m,\n",
      "  \u001b[0m\u001b[34;1m\"proxyEndpoint\"\u001b[0m\u001b[1;39m: \u001b[0m\u001b[0;32m\"https://111111111111.dkr.ecr.us-east-1.amazonaws.com\"\u001b[0m\u001b[1;39m\n",
      "\u001b[1;39m}\u001b[0m\n"
     ]
    }
   ],
   "source": [
    "<out/3.json jq '.authorizationToken |= fromjson' | tee out/4.json | jq"
   ]
  },
  {
   "cell_type": "markdown",
   "metadata": {},
   "source": [
    "This json data seems to be the keys to the kingdom. We didn't extract anything useful, but we know it's some sort of token in JSON format."
   ]
  },
  {
   "cell_type": "markdown",
   "metadata": {},
   "source": [
    "## Finding out about the kubernetes imagepullsecret format\n",
    "\n",
    "If we inspect the format of `aws ecr get-login`, we'll see something like this:\n",
    "```sh\n",
    "docker login -u AWS -p eyJwYXlsb2FkIjoiWFhYWFhYWFgiLCJkYXRha2V5IjoiWVlZWVlZWVkiLCJ2ZXJzaW9uIjoiMiIsInR5cGUiOiJEQVRBX0tFWSIsImV4cGlyYXRpb24iOjE1ODAyNzMwNDZ9 -e none https://111111111111.dkr.ecr.us-east-1.amazonaws.com\n",
    "```\n",
    "That shows that:\n",
    "- username is `AWS`\n",
    "- password is a token\n",
    "- email is `none`\n",
    "-registry url is `https://111111111111.dkr.ecr.us-east-1.amazonaws.com`\n",
    "\n",
    "We can learn how to structure imagePullSecrets for Kubernetes from the official docs:\n",
    "https://kubernetes.io/docs/tasks/configure-pod-container/pull-image-private-registry/\n",
    "\n",
    "a credential can be created with the following kubectl command:"
   ]
  },
  {
   "cell_type": "code",
   "execution_count": 8,
   "metadata": {},
   "outputs": [
    {
     "name": "stdout",
     "output_type": "stream",
     "text": [
      "\u001b[1;39m{\n",
      "  \u001b[0m\u001b[34;1m\"kind\"\u001b[0m\u001b[1;39m: \u001b[0m\u001b[0;32m\"Secret\"\u001b[0m\u001b[1;39m,\n",
      "  \u001b[0m\u001b[34;1m\"apiVersion\"\u001b[0m\u001b[1;39m: \u001b[0m\u001b[0;32m\"v1\"\u001b[0m\u001b[1;39m,\n",
      "  \u001b[0m\u001b[34;1m\"metadata\"\u001b[0m\u001b[1;39m: \u001b[0m\u001b[1;39m{\n",
      "    \u001b[0m\u001b[34;1m\"name\"\u001b[0m\u001b[1;39m: \u001b[0m\u001b[0;32m\"aws-creds\"\u001b[0m\u001b[1;39m,\n",
      "    \u001b[0m\u001b[34;1m\"creationTimestamp\"\u001b[0m\u001b[1;39m: \u001b[0m\u001b[1;30mnull\u001b[0m\u001b[1;39m\n",
      "  \u001b[1;39m}\u001b[0m\u001b[1;39m,\n",
      "  \u001b[0m\u001b[34;1m\"data\"\u001b[0m\u001b[1;39m: \u001b[0m\u001b[1;39m{\n",
      "    \u001b[0m\u001b[34;1m\".dockerconfigjson\"\u001b[0m\u001b[1;39m: \u001b[0m\u001b[0;32m\"eyJhdXRocyI6eyJodHRwczovL2V4YW1wbGUuY29tIjp7InVzZXJuYW1lIjoiQVdTIiwicGFzc3dvcmQiOiJ4eHh5eXl6enoiLCJlbWFpbCI6Im5vbmUiLCJhdXRoIjoiUVZkVE9uaDRlSGw1ZVhwNmVnPT0ifX19\"\u001b[0m\u001b[1;39m\n",
      "  \u001b[1;39m}\u001b[0m\u001b[1;39m,\n",
      "  \u001b[0m\u001b[34;1m\"type\"\u001b[0m\u001b[1;39m: \u001b[0m\u001b[0;32m\"kubernetes.io/dockerconfigjson\"\u001b[0m\u001b[1;39m\n",
      "\u001b[1;39m}\u001b[0m\n"
     ]
    }
   ],
   "source": [
    "kubectl create secret docker-registry  aws-creds \\\n",
    "    --docker-server=https://example.com \\\n",
    "    --docker-username=AWS \\\n",
    "    --docker-password=xxxyyyzzz \\\n",
    "    --docker-email=none -o json --dry-run | tee out/5.json | jq"
   ]
  },
  {
   "cell_type": "markdown",
   "metadata": {},
   "source": [
    "Let's inspect how that .dockerconfigjson looks like:"
   ]
  },
  {
   "cell_type": "code",
   "execution_count": 9,
   "metadata": {},
   "outputs": [
    {
     "name": "stdout",
     "output_type": "stream",
     "text": [
      "\u001b[1;39m{\n",
      "  \u001b[0m\u001b[34;1m\"kind\"\u001b[0m\u001b[1;39m: \u001b[0m\u001b[0;32m\"Secret\"\u001b[0m\u001b[1;39m,\n",
      "  \u001b[0m\u001b[34;1m\"apiVersion\"\u001b[0m\u001b[1;39m: \u001b[0m\u001b[0;32m\"v1\"\u001b[0m\u001b[1;39m,\n",
      "  \u001b[0m\u001b[34;1m\"metadata\"\u001b[0m\u001b[1;39m: \u001b[0m\u001b[1;39m{\n",
      "    \u001b[0m\u001b[34;1m\"name\"\u001b[0m\u001b[1;39m: \u001b[0m\u001b[0;32m\"aws-creds\"\u001b[0m\u001b[1;39m,\n",
      "    \u001b[0m\u001b[34;1m\"creationTimestamp\"\u001b[0m\u001b[1;39m: \u001b[0m\u001b[1;30mnull\u001b[0m\u001b[1;39m\n",
      "  \u001b[1;39m}\u001b[0m\u001b[1;39m,\n",
      "  \u001b[0m\u001b[34;1m\"data\"\u001b[0m\u001b[1;39m: \u001b[0m\u001b[1;39m{\n",
      "    \u001b[0m\u001b[34;1m\".dockerconfigjson\"\u001b[0m\u001b[1;39m: \u001b[0m\u001b[1;39m{\n",
      "      \u001b[0m\u001b[34;1m\"auths\"\u001b[0m\u001b[1;39m: \u001b[0m\u001b[1;39m{\n",
      "        \u001b[0m\u001b[34;1m\"https://example.com\"\u001b[0m\u001b[1;39m: \u001b[0m\u001b[1;39m{\n",
      "          \u001b[0m\u001b[34;1m\"username\"\u001b[0m\u001b[1;39m: \u001b[0m\u001b[0;32m\"AWS\"\u001b[0m\u001b[1;39m,\n",
      "          \u001b[0m\u001b[34;1m\"password\"\u001b[0m\u001b[1;39m: \u001b[0m\u001b[0;32m\"xxxyyyzzz\"\u001b[0m\u001b[1;39m,\n",
      "          \u001b[0m\u001b[34;1m\"email\"\u001b[0m\u001b[1;39m: \u001b[0m\u001b[0;32m\"none\"\u001b[0m\u001b[1;39m,\n",
      "          \u001b[0m\u001b[34;1m\"auth\"\u001b[0m\u001b[1;39m: \u001b[0m\u001b[0;32m\"QVdTOnh4eHl5eXp6eg==\"\u001b[0m\u001b[1;39m\n",
      "        \u001b[1;39m}\u001b[0m\u001b[1;39m\n",
      "      \u001b[1;39m}\u001b[0m\u001b[1;39m\n",
      "    \u001b[1;39m}\u001b[0m\u001b[1;39m\n",
      "  \u001b[1;39m}\u001b[0m\u001b[1;39m,\n",
      "  \u001b[0m\u001b[34;1m\"type\"\u001b[0m\u001b[1;39m: \u001b[0m\u001b[0;32m\"kubernetes.io/dockerconfigjson\"\u001b[0m\u001b[1;39m\n",
      "\u001b[1;39m}\u001b[0m\n"
     ]
    }
   ],
   "source": [
    "<out/5.json jq '.data |= with_entries({key, value: .value|@base64d|fromjson})'"
   ]
  },
  {
   "cell_type": "markdown",
   "metadata": {},
   "source": [
    "We will have to produce exactly that format from the `aws ecr get-authorization-token` output.\n",
    "The `auth` field if we inspect it is actually the \"AWS:xxxyyyzzz\" pair.\n"
   ]
  },
  {
   "cell_type": "markdown",
   "metadata": {},
   "source": [
    "## Transforming ECR Auth Token into Kubernetes dockerconfig json format\n",
    "\n",
    "Let's again look at our tokens we get from aws ecr:"
   ]
  },
  {
   "cell_type": "code",
   "execution_count": 10,
   "metadata": {},
   "outputs": [
    {
     "name": "stdout",
     "output_type": "stream",
     "text": [
      "\u001b[1;39m{\n",
      "  \u001b[0m\u001b[34;1m\"authorizationData\"\u001b[0m\u001b[1;39m: \u001b[0m\u001b[1;39m[\n",
      "    \u001b[1;39m{\n",
      "      \u001b[0m\u001b[34;1m\"authorizationToken\"\u001b[0m\u001b[1;39m: \u001b[0m\u001b[0;32m\"QVdTOmV5SndZWGxzYjJGa0lqb2lXRmhZV0ZoWVdGZ2lMQ0prWVhSaGEyVjVJam9pV1ZsWldWbFpXVmtpTENKMlpYSnphVzl1SWpvaU1pSXNJblI1Y0dVaU9pSkVRVlJCWDB0RldTSXNJbVY0Y0dseVlYUnBiMjRpT2pFMU9EQXlOek13TkRaOQ==\"\u001b[0m\u001b[1;39m,\n",
      "      \u001b[0m\u001b[34;1m\"expiresAt\"\u001b[0m\u001b[1;39m: \u001b[0m\u001b[0;39m158164069.791\u001b[0m\u001b[1;39m,\n",
      "      \u001b[0m\u001b[34;1m\"proxyEndpoint\"\u001b[0m\u001b[1;39m: \u001b[0m\u001b[0;32m\"https://111111111111.dkr.ecr.us-east-1.amazonaws.com\"\u001b[0m\u001b[1;39m\n",
      "    \u001b[1;39m}\u001b[0m\u001b[1;39m\n",
      "  \u001b[1;39m]\u001b[0m\u001b[1;39m\n",
      "\u001b[1;39m}\u001b[0m\n",
      "\u001b[1;39m{\n",
      "  \u001b[0m\u001b[34;1m\"authorizationData\"\u001b[0m\u001b[1;39m: \u001b[0m\u001b[1;39m[\n",
      "    \u001b[1;39m{\n",
      "      \u001b[0m\u001b[34;1m\"authorizationToken\"\u001b[0m\u001b[1;39m: \u001b[0m\u001b[0;32m\"QVdTOmV5SndZWGxzYjJGa0lqb2lXRmhZV0ZoWVdGZ2lMQ0prWVhSaGEyVjVJam9pV1ZsWldWbFpXVmtpTENKMlpYSnphVzl1SWpvaU1pSXNJblI1Y0dVaU9pSkVRVlJCWDB0RldTSXNJbVY0Y0dseVlYUnBiMjRpT2pFMU9EQXlOek13TkRaOQ==\"\u001b[0m\u001b[1;39m,\n",
      "      \u001b[0m\u001b[34;1m\"expiresAt\"\u001b[0m\u001b[1;39m: \u001b[0m\u001b[0;39m158164069.791\u001b[0m\u001b[1;39m,\n",
      "      \u001b[0m\u001b[34;1m\"proxyEndpoint\"\u001b[0m\u001b[1;39m: \u001b[0m\u001b[0;32m\"https://222222222222.dkr.ecr.us-east-1.amazonaws.com\"\u001b[0m\u001b[1;39m\n",
      "    \u001b[1;39m}\u001b[0m\u001b[1;39m\n",
      "  \u001b[1;39m]\u001b[0m\u001b[1;39m\n",
      "\u001b[1;39m}\u001b[0m\n",
      "\u001b[1;39m{\n",
      "  \u001b[0m\u001b[34;1m\"authorizationData\"\u001b[0m\u001b[1;39m: \u001b[0m\u001b[1;39m[\n",
      "    \u001b[1;39m{\n",
      "      \u001b[0m\u001b[34;1m\"authorizationToken\"\u001b[0m\u001b[1;39m: \u001b[0m\u001b[0;32m\"QVdTOmV5SndZWGxzYjJGa0lqb2lXRmhZV0ZoWVdGZ2lMQ0prWVhSaGEyVjVJam9pV1ZsWldWbFpXVmtpTENKMlpYSnphVzl1SWpvaU1pSXNJblI1Y0dVaU9pSkVRVlJCWDB0RldTSXNJbVY0Y0dseVlYUnBiMjRpT2pFMU9EQXlOek13TkRkOQ==\"\u001b[0m\u001b[1;39m,\n",
      "      \u001b[0m\u001b[34;1m\"expiresAt\"\u001b[0m\u001b[1;39m: \u001b[0m\u001b[0;39m158164069.791\u001b[0m\u001b[1;39m,\n",
      "      \u001b[0m\u001b[34;1m\"proxyEndpoint\"\u001b[0m\u001b[1;39m: \u001b[0m\u001b[0;32m\"https://222222222222.dkr.ecr.us-west-2.amazonaws.com\"\u001b[0m\u001b[1;39m\n",
      "    \u001b[1;39m}\u001b[0m\u001b[1;39m\n",
      "  \u001b[1;39m]\u001b[0m\u001b[1;39m\n",
      "\u001b[1;39m}\u001b[0m\n"
     ]
    }
   ],
   "source": [
    "<input.json jq"
   ]
  },
  {
   "cell_type": "markdown",
   "metadata": {},
   "source": [
    "That shows two things:\n",
    "1. We need to merge the two objects into a single one\n",
    "2. We need to extract the username and the password for each record and add it\n",
    "3. We need to set the email to 'none'.\n",
    "\n",
    "Let's do that!\n",
    "First We'll shave off the boilerplate:"
   ]
  },
  {
   "cell_type": "code",
   "execution_count": 11,
   "metadata": {},
   "outputs": [
    {
     "name": "stdout",
     "output_type": "stream",
     "text": [
      "\u001b[1;39m[\n",
      "  \u001b[1;39m{\n",
      "    \u001b[0m\u001b[34;1m\"authorizationToken\"\u001b[0m\u001b[1;39m: \u001b[0m\u001b[0;32m\"QVdTOmV5SndZWGxzYjJGa0lqb2lXRmhZV0ZoWVdGZ2lMQ0prWVhSaGEyVjVJam9pV1ZsWldWbFpXVmtpTENKMlpYSnphVzl1SWpvaU1pSXNJblI1Y0dVaU9pSkVRVlJCWDB0RldTSXNJbVY0Y0dseVlYUnBiMjRpT2pFMU9EQXlOek13TkRaOQ==\"\u001b[0m\u001b[1;39m,\n",
      "    \u001b[0m\u001b[34;1m\"expiresAt\"\u001b[0m\u001b[1;39m: \u001b[0m\u001b[0;39m158164069.791\u001b[0m\u001b[1;39m,\n",
      "    \u001b[0m\u001b[34;1m\"proxyEndpoint\"\u001b[0m\u001b[1;39m: \u001b[0m\u001b[0;32m\"https://111111111111.dkr.ecr.us-east-1.amazonaws.com\"\u001b[0m\u001b[1;39m\n",
      "  \u001b[1;39m}\u001b[0m\u001b[1;39m,\n",
      "  \u001b[1;39m{\n",
      "    \u001b[0m\u001b[34;1m\"authorizationToken\"\u001b[0m\u001b[1;39m: \u001b[0m\u001b[0;32m\"QVdTOmV5SndZWGxzYjJGa0lqb2lXRmhZV0ZoWVdGZ2lMQ0prWVhSaGEyVjVJam9pV1ZsWldWbFpXVmtpTENKMlpYSnphVzl1SWpvaU1pSXNJblI1Y0dVaU9pSkVRVlJCWDB0RldTSXNJbVY0Y0dseVlYUnBiMjRpT2pFMU9EQXlOek13TkRaOQ==\"\u001b[0m\u001b[1;39m,\n",
      "    \u001b[0m\u001b[34;1m\"expiresAt\"\u001b[0m\u001b[1;39m: \u001b[0m\u001b[0;39m158164069.791\u001b[0m\u001b[1;39m,\n",
      "    \u001b[0m\u001b[34;1m\"proxyEndpoint\"\u001b[0m\u001b[1;39m: \u001b[0m\u001b[0;32m\"https://222222222222.dkr.ecr.us-east-1.amazonaws.com\"\u001b[0m\u001b[1;39m\n",
      "  \u001b[1;39m}\u001b[0m\u001b[1;39m,\n",
      "  \u001b[1;39m{\n",
      "    \u001b[0m\u001b[34;1m\"authorizationToken\"\u001b[0m\u001b[1;39m: \u001b[0m\u001b[0;32m\"QVdTOmV5SndZWGxzYjJGa0lqb2lXRmhZV0ZoWVdGZ2lMQ0prWVhSaGEyVjVJam9pV1ZsWldWbFpXVmtpTENKMlpYSnphVzl1SWpvaU1pSXNJblI1Y0dVaU9pSkVRVlJCWDB0RldTSXNJbVY0Y0dseVlYUnBiMjRpT2pFMU9EQXlOek13TkRkOQ==\"\u001b[0m\u001b[1;39m,\n",
      "    \u001b[0m\u001b[34;1m\"expiresAt\"\u001b[0m\u001b[1;39m: \u001b[0m\u001b[0;39m158164069.791\u001b[0m\u001b[1;39m,\n",
      "    \u001b[0m\u001b[34;1m\"proxyEndpoint\"\u001b[0m\u001b[1;39m: \u001b[0m\u001b[0;32m\"https://222222222222.dkr.ecr.us-west-2.amazonaws.com\"\u001b[0m\u001b[1;39m\n",
      "  \u001b[1;39m}\u001b[0m\u001b[1;39m\n",
      "\u001b[1;39m]\u001b[0m\n"
     ]
    }
   ],
   "source": [
    "<input.json jq -s 'map(.[][])' | tee out/6.json | jq"
   ]
  },
  {
   "cell_type": "markdown",
   "metadata": {},
   "source": [
    "Next we try to massage the data towards the desired dockerconfig json format.\n",
    "First we transform the object into an [entry](https://stedolan.github.io/jq/manual/#to_entries,from_entries,with_entries).\n"
   ]
  },
  {
   "cell_type": "code",
   "execution_count": 12,
   "metadata": {},
   "outputs": [
    {
     "name": "stdout",
     "output_type": "stream",
     "text": [
      "\u001b[1;39m[\n",
      "  \u001b[1;39m{\n",
      "    \u001b[0m\u001b[34;1m\"key\"\u001b[0m\u001b[1;39m: \u001b[0m\u001b[0;32m\"https://111111111111.dkr.ecr.us-east-1.amazonaws.com\"\u001b[0m\u001b[1;39m,\n",
      "    \u001b[0m\u001b[34;1m\"value\"\u001b[0m\u001b[1;39m: \u001b[0m\u001b[1;39m{\n",
      "      \u001b[0m\u001b[34;1m\"auth\"\u001b[0m\u001b[1;39m: \u001b[0m\u001b[0;32m\"QVdTOmV5SndZWGxzYjJGa0lqb2lXRmhZV0ZoWVdGZ2lMQ0prWVhSaGEyVjVJam9pV1ZsWldWbFpXVmtpTENKMlpYSnphVzl1SWpvaU1pSXNJblI1Y0dVaU9pSkVRVlJCWDB0RldTSXNJbVY0Y0dseVlYUnBiMjRpT2pFMU9EQXlOek13TkRaOQ==\"\u001b[0m\u001b[1;39m\n",
      "    \u001b[1;39m}\u001b[0m\u001b[1;39m\n",
      "  \u001b[1;39m}\u001b[0m\u001b[1;39m,\n",
      "  \u001b[1;39m{\n",
      "    \u001b[0m\u001b[34;1m\"key\"\u001b[0m\u001b[1;39m: \u001b[0m\u001b[0;32m\"https://222222222222.dkr.ecr.us-east-1.amazonaws.com\"\u001b[0m\u001b[1;39m,\n",
      "    \u001b[0m\u001b[34;1m\"value\"\u001b[0m\u001b[1;39m: \u001b[0m\u001b[1;39m{\n",
      "      \u001b[0m\u001b[34;1m\"auth\"\u001b[0m\u001b[1;39m: \u001b[0m\u001b[0;32m\"QVdTOmV5SndZWGxzYjJGa0lqb2lXRmhZV0ZoWVdGZ2lMQ0prWVhSaGEyVjVJam9pV1ZsWldWbFpXVmtpTENKMlpYSnphVzl1SWpvaU1pSXNJblI1Y0dVaU9pSkVRVlJCWDB0RldTSXNJbVY0Y0dseVlYUnBiMjRpT2pFMU9EQXlOek13TkRaOQ==\"\u001b[0m\u001b[1;39m\n",
      "    \u001b[1;39m}\u001b[0m\u001b[1;39m\n",
      "  \u001b[1;39m}\u001b[0m\u001b[1;39m,\n",
      "  \u001b[1;39m{\n",
      "    \u001b[0m\u001b[34;1m\"key\"\u001b[0m\u001b[1;39m: \u001b[0m\u001b[0;32m\"https://222222222222.dkr.ecr.us-west-2.amazonaws.com\"\u001b[0m\u001b[1;39m,\n",
      "    \u001b[0m\u001b[34;1m\"value\"\u001b[0m\u001b[1;39m: \u001b[0m\u001b[1;39m{\n",
      "      \u001b[0m\u001b[34;1m\"auth\"\u001b[0m\u001b[1;39m: \u001b[0m\u001b[0;32m\"QVdTOmV5SndZWGxzYjJGa0lqb2lXRmhZV0ZoWVdGZ2lMQ0prWVhSaGEyVjVJam9pV1ZsWldWbFpXVmtpTENKMlpYSnphVzl1SWpvaU1pSXNJblI1Y0dVaU9pSkVRVlJCWDB0RldTSXNJbVY0Y0dseVlYUnBiMjRpT2pFMU9EQXlOek13TkRkOQ==\"\u001b[0m\u001b[1;39m\n",
      "    \u001b[1;39m}\u001b[0m\u001b[1;39m\n",
      "  \u001b[1;39m}\u001b[0m\u001b[1;39m\n",
      "\u001b[1;39m]\u001b[0m\n"
     ]
    }
   ],
   "source": [
    "<out/6.json jq 'map({key: .proxyEndpoint, value: { auth: .authorizationToken}})' | tee out/7.json | jq"
   ]
  },
  {
   "cell_type": "markdown",
   "metadata": {},
   "source": [
    "Next, we split out the username and password parts from the auth token.\n",
    "First we take the token, base64 decode it, to get it into the `username:password` format.\n",
    "Next, we construct a new object for `value`, that contains `username`, `password` and `email` fields\n",
    "besides the `auth` field."
   ]
  },
  {
   "cell_type": "code",
   "execution_count": 13,
   "metadata": {},
   "outputs": [
    {
     "name": "stdout",
     "output_type": "stream",
     "text": [
      "\u001b[1;39m[\n",
      "  \u001b[1;39m{\n",
      "    \u001b[0m\u001b[34;1m\"key\"\u001b[0m\u001b[1;39m: \u001b[0m\u001b[0;32m\"https://111111111111.dkr.ecr.us-east-1.amazonaws.com\"\u001b[0m\u001b[1;39m,\n",
      "    \u001b[0m\u001b[34;1m\"value\"\u001b[0m\u001b[1;39m: \u001b[0m\u001b[1;39m{\n",
      "      \u001b[0m\u001b[34;1m\"username\"\u001b[0m\u001b[1;39m: \u001b[0m\u001b[0;32m\"AWS\"\u001b[0m\u001b[1;39m,\n",
      "      \u001b[0m\u001b[34;1m\"password\"\u001b[0m\u001b[1;39m: \u001b[0m\u001b[0;32m\"eyJwYXlsb2FkIjoiWFhYWFhYWFgiLCJkYXRha2V5IjoiWVlZWVlZWVkiLCJ2ZXJzaW9uIjoiMiIsInR5cGUiOiJEQVRBX0tFWSIsImV4cGlyYXRpb24iOjE1ODAyNzMwNDZ9\"\u001b[0m\u001b[1;39m,\n",
      "      \u001b[0m\u001b[34;1m\"email\"\u001b[0m\u001b[1;39m: \u001b[0m\u001b[0;32m\"none\"\u001b[0m\u001b[1;39m,\n",
      "      \u001b[0m\u001b[34;1m\"auth\"\u001b[0m\u001b[1;39m: \u001b[0m\u001b[0;32m\"QVdTOmV5SndZWGxzYjJGa0lqb2lXRmhZV0ZoWVdGZ2lMQ0prWVhSaGEyVjVJam9pV1ZsWldWbFpXVmtpTENKMlpYSnphVzl1SWpvaU1pSXNJblI1Y0dVaU9pSkVRVlJCWDB0RldTSXNJbVY0Y0dseVlYUnBiMjRpT2pFMU9EQXlOek13TkRaOQ==\"\u001b[0m\u001b[1;39m\n",
      "    \u001b[1;39m}\u001b[0m\u001b[1;39m\n",
      "  \u001b[1;39m}\u001b[0m\u001b[1;39m,\n",
      "  \u001b[1;39m{\n",
      "    \u001b[0m\u001b[34;1m\"key\"\u001b[0m\u001b[1;39m: \u001b[0m\u001b[0;32m\"https://222222222222.dkr.ecr.us-east-1.amazonaws.com\"\u001b[0m\u001b[1;39m,\n",
      "    \u001b[0m\u001b[34;1m\"value\"\u001b[0m\u001b[1;39m: \u001b[0m\u001b[1;39m{\n",
      "      \u001b[0m\u001b[34;1m\"username\"\u001b[0m\u001b[1;39m: \u001b[0m\u001b[0;32m\"AWS\"\u001b[0m\u001b[1;39m,\n",
      "      \u001b[0m\u001b[34;1m\"password\"\u001b[0m\u001b[1;39m: \u001b[0m\u001b[0;32m\"eyJwYXlsb2FkIjoiWFhYWFhYWFgiLCJkYXRha2V5IjoiWVlZWVlZWVkiLCJ2ZXJzaW9uIjoiMiIsInR5cGUiOiJEQVRBX0tFWSIsImV4cGlyYXRpb24iOjE1ODAyNzMwNDZ9\"\u001b[0m\u001b[1;39m,\n",
      "      \u001b[0m\u001b[34;1m\"email\"\u001b[0m\u001b[1;39m: \u001b[0m\u001b[0;32m\"none\"\u001b[0m\u001b[1;39m,\n",
      "      \u001b[0m\u001b[34;1m\"auth\"\u001b[0m\u001b[1;39m: \u001b[0m\u001b[0;32m\"QVdTOmV5SndZWGxzYjJGa0lqb2lXRmhZV0ZoWVdGZ2lMQ0prWVhSaGEyVjVJam9pV1ZsWldWbFpXVmtpTENKMlpYSnphVzl1SWpvaU1pSXNJblI1Y0dVaU9pSkVRVlJCWDB0RldTSXNJbVY0Y0dseVlYUnBiMjRpT2pFMU9EQXlOek13TkRaOQ==\"\u001b[0m\u001b[1;39m\n",
      "    \u001b[1;39m}\u001b[0m\u001b[1;39m\n",
      "  \u001b[1;39m}\u001b[0m\u001b[1;39m,\n",
      "  \u001b[1;39m{\n",
      "    \u001b[0m\u001b[34;1m\"key\"\u001b[0m\u001b[1;39m: \u001b[0m\u001b[0;32m\"https://222222222222.dkr.ecr.us-west-2.amazonaws.com\"\u001b[0m\u001b[1;39m,\n",
      "    \u001b[0m\u001b[34;1m\"value\"\u001b[0m\u001b[1;39m: \u001b[0m\u001b[1;39m{\n",
      "      \u001b[0m\u001b[34;1m\"username\"\u001b[0m\u001b[1;39m: \u001b[0m\u001b[0;32m\"AWS\"\u001b[0m\u001b[1;39m,\n",
      "      \u001b[0m\u001b[34;1m\"password\"\u001b[0m\u001b[1;39m: \u001b[0m\u001b[0;32m\"eyJwYXlsb2FkIjoiWFhYWFhYWFgiLCJkYXRha2V5IjoiWVlZWVlZWVkiLCJ2ZXJzaW9uIjoiMiIsInR5cGUiOiJEQVRBX0tFWSIsImV4cGlyYXRpb24iOjE1ODAyNzMwNDd9\"\u001b[0m\u001b[1;39m,\n",
      "      \u001b[0m\u001b[34;1m\"email\"\u001b[0m\u001b[1;39m: \u001b[0m\u001b[0;32m\"none\"\u001b[0m\u001b[1;39m,\n",
      "      \u001b[0m\u001b[34;1m\"auth\"\u001b[0m\u001b[1;39m: \u001b[0m\u001b[0;32m\"QVdTOmV5SndZWGxzYjJGa0lqb2lXRmhZV0ZoWVdGZ2lMQ0prWVhSaGEyVjVJam9pV1ZsWldWbFpXVmtpTENKMlpYSnphVzl1SWpvaU1pSXNJblI1Y0dVaU9pSkVRVlJCWDB0RldTSXNJbVY0Y0dseVlYUnBiMjRpT2pFMU9EQXlOek13TkRkOQ==\"\u001b[0m\u001b[1;39m\n",
      "    \u001b[1;39m}\u001b[0m\u001b[1;39m\n",
      "  \u001b[1;39m}\u001b[0m\u001b[1;39m\n",
      "\u001b[1;39m]\u001b[0m\n"
     ]
    }
   ],
   "source": [
    "<out/7.json jq '\n",
    "map(\n",
    "    .value |= (.auth|@base64d|split(\":\")) as $auth\n",
    "            | {\n",
    "                username: $auth[0],\n",
    "                password: $auth[1],\n",
    "                email: \"none\",\n",
    "                auth\n",
    "            }\n",
    ")' | tee out/8.json | jq"
   ]
  },
  {
   "cell_type": "markdown",
   "metadata": {},
   "source": [
    "Now comes the magic: we use `from_entries` to convert the list of objects with 'key' and 'value' pairs into a single object."
   ]
  },
  {
   "cell_type": "code",
   "execution_count": 14,
   "metadata": {},
   "outputs": [
    {
     "name": "stdout",
     "output_type": "stream",
     "text": [
      "\u001b[1;39m{\n",
      "  \u001b[0m\u001b[34;1m\"https://111111111111.dkr.ecr.us-east-1.amazonaws.com\"\u001b[0m\u001b[1;39m: \u001b[0m\u001b[1;39m{\n",
      "    \u001b[0m\u001b[34;1m\"username\"\u001b[0m\u001b[1;39m: \u001b[0m\u001b[0;32m\"AWS\"\u001b[0m\u001b[1;39m,\n",
      "    \u001b[0m\u001b[34;1m\"password\"\u001b[0m\u001b[1;39m: \u001b[0m\u001b[0;32m\"eyJwYXlsb2FkIjoiWFhYWFhYWFgiLCJkYXRha2V5IjoiWVlZWVlZWVkiLCJ2ZXJzaW9uIjoiMiIsInR5cGUiOiJEQVRBX0tFWSIsImV4cGlyYXRpb24iOjE1ODAyNzMwNDZ9\"\u001b[0m\u001b[1;39m,\n",
      "    \u001b[0m\u001b[34;1m\"email\"\u001b[0m\u001b[1;39m: \u001b[0m\u001b[0;32m\"none\"\u001b[0m\u001b[1;39m,\n",
      "    \u001b[0m\u001b[34;1m\"auth\"\u001b[0m\u001b[1;39m: \u001b[0m\u001b[0;32m\"QVdTOmV5SndZWGxzYjJGa0lqb2lXRmhZV0ZoWVdGZ2lMQ0prWVhSaGEyVjVJam9pV1ZsWldWbFpXVmtpTENKMlpYSnphVzl1SWpvaU1pSXNJblI1Y0dVaU9pSkVRVlJCWDB0RldTSXNJbVY0Y0dseVlYUnBiMjRpT2pFMU9EQXlOek13TkRaOQ==\"\u001b[0m\u001b[1;39m\n",
      "  \u001b[1;39m}\u001b[0m\u001b[1;39m,\n",
      "  \u001b[0m\u001b[34;1m\"https://222222222222.dkr.ecr.us-east-1.amazonaws.com\"\u001b[0m\u001b[1;39m: \u001b[0m\u001b[1;39m{\n",
      "    \u001b[0m\u001b[34;1m\"username\"\u001b[0m\u001b[1;39m: \u001b[0m\u001b[0;32m\"AWS\"\u001b[0m\u001b[1;39m,\n",
      "    \u001b[0m\u001b[34;1m\"password\"\u001b[0m\u001b[1;39m: \u001b[0m\u001b[0;32m\"eyJwYXlsb2FkIjoiWFhYWFhYWFgiLCJkYXRha2V5IjoiWVlZWVlZWVkiLCJ2ZXJzaW9uIjoiMiIsInR5cGUiOiJEQVRBX0tFWSIsImV4cGlyYXRpb24iOjE1ODAyNzMwNDZ9\"\u001b[0m\u001b[1;39m,\n",
      "    \u001b[0m\u001b[34;1m\"email\"\u001b[0m\u001b[1;39m: \u001b[0m\u001b[0;32m\"none\"\u001b[0m\u001b[1;39m,\n",
      "    \u001b[0m\u001b[34;1m\"auth\"\u001b[0m\u001b[1;39m: \u001b[0m\u001b[0;32m\"QVdTOmV5SndZWGxzYjJGa0lqb2lXRmhZV0ZoWVdGZ2lMQ0prWVhSaGEyVjVJam9pV1ZsWldWbFpXVmtpTENKMlpYSnphVzl1SWpvaU1pSXNJblI1Y0dVaU9pSkVRVlJCWDB0RldTSXNJbVY0Y0dseVlYUnBiMjRpT2pFMU9EQXlOek13TkRaOQ==\"\u001b[0m\u001b[1;39m\n",
      "  \u001b[1;39m}\u001b[0m\u001b[1;39m,\n",
      "  \u001b[0m\u001b[34;1m\"https://222222222222.dkr.ecr.us-west-2.amazonaws.com\"\u001b[0m\u001b[1;39m: \u001b[0m\u001b[1;39m{\n",
      "    \u001b[0m\u001b[34;1m\"username\"\u001b[0m\u001b[1;39m: \u001b[0m\u001b[0;32m\"AWS\"\u001b[0m\u001b[1;39m,\n",
      "    \u001b[0m\u001b[34;1m\"password\"\u001b[0m\u001b[1;39m: \u001b[0m\u001b[0;32m\"eyJwYXlsb2FkIjoiWFhYWFhYWFgiLCJkYXRha2V5IjoiWVlZWVlZWVkiLCJ2ZXJzaW9uIjoiMiIsInR5cGUiOiJEQVRBX0tFWSIsImV4cGlyYXRpb24iOjE1ODAyNzMwNDd9\"\u001b[0m\u001b[1;39m,\n",
      "    \u001b[0m\u001b[34;1m\"email\"\u001b[0m\u001b[1;39m: \u001b[0m\u001b[0;32m\"none\"\u001b[0m\u001b[1;39m,\n",
      "    \u001b[0m\u001b[34;1m\"auth\"\u001b[0m\u001b[1;39m: \u001b[0m\u001b[0;32m\"QVdTOmV5SndZWGxzYjJGa0lqb2lXRmhZV0ZoWVdGZ2lMQ0prWVhSaGEyVjVJam9pV1ZsWldWbFpXVmtpTENKMlpYSnphVzl1SWpvaU1pSXNJblI1Y0dVaU9pSkVRVlJCWDB0RldTSXNJbVY0Y0dseVlYUnBiMjRpT2pFMU9EQXlOek13TkRkOQ==\"\u001b[0m\u001b[1;39m\n",
      "  \u001b[1;39m}\u001b[0m\u001b[1;39m\n",
      "\u001b[1;39m}\u001b[0m\n"
     ]
    }
   ],
   "source": [
    "<out/8.json jq 'from_entries' | tee out/9.json | jq"
   ]
  },
  {
   "cell_type": "markdown",
   "metadata": {},
   "source": [
    "Finally, we wrap the entire object into `auths`."
   ]
  },
  {
   "cell_type": "code",
   "execution_count": 15,
   "metadata": {},
   "outputs": [
    {
     "name": "stdout",
     "output_type": "stream",
     "text": [
      "\u001b[1;39m{\n",
      "  \u001b[0m\u001b[34;1m\"auths\"\u001b[0m\u001b[1;39m: \u001b[0m\u001b[1;39m{\n",
      "    \u001b[0m\u001b[34;1m\"https://111111111111.dkr.ecr.us-east-1.amazonaws.com\"\u001b[0m\u001b[1;39m: \u001b[0m\u001b[1;39m{\n",
      "      \u001b[0m\u001b[34;1m\"username\"\u001b[0m\u001b[1;39m: \u001b[0m\u001b[0;32m\"AWS\"\u001b[0m\u001b[1;39m,\n",
      "      \u001b[0m\u001b[34;1m\"password\"\u001b[0m\u001b[1;39m: \u001b[0m\u001b[0;32m\"eyJwYXlsb2FkIjoiWFhYWFhYWFgiLCJkYXRha2V5IjoiWVlZWVlZWVkiLCJ2ZXJzaW9uIjoiMiIsInR5cGUiOiJEQVRBX0tFWSIsImV4cGlyYXRpb24iOjE1ODAyNzMwNDZ9\"\u001b[0m\u001b[1;39m,\n",
      "      \u001b[0m\u001b[34;1m\"email\"\u001b[0m\u001b[1;39m: \u001b[0m\u001b[0;32m\"none\"\u001b[0m\u001b[1;39m,\n",
      "      \u001b[0m\u001b[34;1m\"auth\"\u001b[0m\u001b[1;39m: \u001b[0m\u001b[0;32m\"QVdTOmV5SndZWGxzYjJGa0lqb2lXRmhZV0ZoWVdGZ2lMQ0prWVhSaGEyVjVJam9pV1ZsWldWbFpXVmtpTENKMlpYSnphVzl1SWpvaU1pSXNJblI1Y0dVaU9pSkVRVlJCWDB0RldTSXNJbVY0Y0dseVlYUnBiMjRpT2pFMU9EQXlOek13TkRaOQ==\"\u001b[0m\u001b[1;39m\n",
      "    \u001b[1;39m}\u001b[0m\u001b[1;39m,\n",
      "    \u001b[0m\u001b[34;1m\"https://222222222222.dkr.ecr.us-east-1.amazonaws.com\"\u001b[0m\u001b[1;39m: \u001b[0m\u001b[1;39m{\n",
      "      \u001b[0m\u001b[34;1m\"username\"\u001b[0m\u001b[1;39m: \u001b[0m\u001b[0;32m\"AWS\"\u001b[0m\u001b[1;39m,\n",
      "      \u001b[0m\u001b[34;1m\"password\"\u001b[0m\u001b[1;39m: \u001b[0m\u001b[0;32m\"eyJwYXlsb2FkIjoiWFhYWFhYWFgiLCJkYXRha2V5IjoiWVlZWVlZWVkiLCJ2ZXJzaW9uIjoiMiIsInR5cGUiOiJEQVRBX0tFWSIsImV4cGlyYXRpb24iOjE1ODAyNzMwNDZ9\"\u001b[0m\u001b[1;39m,\n",
      "      \u001b[0m\u001b[34;1m\"email\"\u001b[0m\u001b[1;39m: \u001b[0m\u001b[0;32m\"none\"\u001b[0m\u001b[1;39m,\n",
      "      \u001b[0m\u001b[34;1m\"auth\"\u001b[0m\u001b[1;39m: \u001b[0m\u001b[0;32m\"QVdTOmV5SndZWGxzYjJGa0lqb2lXRmhZV0ZoWVdGZ2lMQ0prWVhSaGEyVjVJam9pV1ZsWldWbFpXVmtpTENKMlpYSnphVzl1SWpvaU1pSXNJblI1Y0dVaU9pSkVRVlJCWDB0RldTSXNJbVY0Y0dseVlYUnBiMjRpT2pFMU9EQXlOek13TkRaOQ==\"\u001b[0m\u001b[1;39m\n",
      "    \u001b[1;39m}\u001b[0m\u001b[1;39m,\n",
      "    \u001b[0m\u001b[34;1m\"https://222222222222.dkr.ecr.us-west-2.amazonaws.com\"\u001b[0m\u001b[1;39m: \u001b[0m\u001b[1;39m{\n",
      "      \u001b[0m\u001b[34;1m\"username\"\u001b[0m\u001b[1;39m: \u001b[0m\u001b[0;32m\"AWS\"\u001b[0m\u001b[1;39m,\n",
      "      \u001b[0m\u001b[34;1m\"password\"\u001b[0m\u001b[1;39m: \u001b[0m\u001b[0;32m\"eyJwYXlsb2FkIjoiWFhYWFhYWFgiLCJkYXRha2V5IjoiWVlZWVlZWVkiLCJ2ZXJzaW9uIjoiMiIsInR5cGUiOiJEQVRBX0tFWSIsImV4cGlyYXRpb24iOjE1ODAyNzMwNDd9\"\u001b[0m\u001b[1;39m,\n",
      "      \u001b[0m\u001b[34;1m\"email\"\u001b[0m\u001b[1;39m: \u001b[0m\u001b[0;32m\"none\"\u001b[0m\u001b[1;39m,\n",
      "      \u001b[0m\u001b[34;1m\"auth\"\u001b[0m\u001b[1;39m: \u001b[0m\u001b[0;32m\"QVdTOmV5SndZWGxzYjJGa0lqb2lXRmhZV0ZoWVdGZ2lMQ0prWVhSaGEyVjVJam9pV1ZsWldWbFpXVmtpTENKMlpYSnphVzl1SWpvaU1pSXNJblI1Y0dVaU9pSkVRVlJCWDB0RldTSXNJbVY0Y0dseVlYUnBiMjRpT2pFMU9EQXlOek13TkRkOQ==\"\u001b[0m\u001b[1;39m\n",
      "    \u001b[1;39m}\u001b[0m\u001b[1;39m\n",
      "  \u001b[1;39m}\u001b[0m\u001b[1;39m\n",
      "\u001b[1;39m}\u001b[0m\n"
     ]
    }
   ],
   "source": [
    "<out/9.json jq '{auths: .}' | tee out/10.json | jq"
   ]
  },
  {
   "cell_type": "markdown",
   "metadata": {},
   "source": [
    "## Generating the kubernetes Secret manifest"
   ]
  },
  {
   "cell_type": "code",
   "execution_count": 16,
   "metadata": {},
   "outputs": [
    {
     "name": "stdout",
     "output_type": "stream",
     "text": [
      "\u001b[1;39m{\n",
      "  \u001b[0m\u001b[34;1m\"apiVersion\"\u001b[0m\u001b[1;39m: \u001b[0m\u001b[0;32m\"v1\"\u001b[0m\u001b[1;39m,\n",
      "  \u001b[0m\u001b[34;1m\"kind\"\u001b[0m\u001b[1;39m: \u001b[0m\u001b[0;32m\"Secret\"\u001b[0m\u001b[1;39m,\n",
      "  \u001b[0m\u001b[34;1m\"type\"\u001b[0m\u001b[1;39m: \u001b[0m\u001b[0;32m\"kubernetes.io/dockerconfigjson\"\u001b[0m\u001b[1;39m,\n",
      "  \u001b[0m\u001b[34;1m\"metadata\"\u001b[0m\u001b[1;39m: \u001b[0m\u001b[1;39m{\n",
      "    \u001b[0m\u001b[34;1m\"name\"\u001b[0m\u001b[1;39m: \u001b[0m\u001b[0;32m\"aws-creds\"\u001b[0m\u001b[1;39m\n",
      "  \u001b[1;39m}\u001b[0m\u001b[1;39m,\n",
      "  \u001b[0m\u001b[34;1m\"data\"\u001b[0m\u001b[1;39m: \u001b[0m\u001b[1;39m{\n",
      "    \u001b[0m\u001b[34;1m\".dockerconfigjson\"\u001b[0m\u001b[1;39m: \u001b[0m\u001b[0;32m\"eyJhdXRocyI6eyJodHRwczovLzExMTExMTExMTExMS5ka3IuZWNyLnVzLWVhc3QtMS5hbWF6b25hd3MuY29tIjp7InVzZXJuYW1lIjoiQVdTIiwicGFzc3dvcmQiOiJleUp3WVhsc2IyRmtJam9pV0ZoWVdGaFlXRmdpTENKa1lYUmhhMlY1SWpvaVdWbFpXVmxaV1ZraUxDSjJaWEp6YVc5dUlqb2lNaUlzSW5SNWNHVWlPaUpFUVZSQlgwdEZXU0lzSW1WNGNHbHlZWFJwYjI0aU9qRTFPREF5TnpNd05EWjkiLCJlbWFpbCI6Im5vbmUiLCJhdXRoIjoiUVZkVE9tVjVTbmRaV0d4ellqSkdhMGxxYjJsWFJtaFpWMFpvV1ZkR1oybE1RMHByV1ZoU2FHRXlWalZKYW05cFYxWnNXbGRXYkZwWFZtdHBURU5LTWxwWVNucGhWemwxU1dwdmFVMXBTWE5KYmxJMVkwZFZhVTlwU2tWUlZsSkNXREIwUmxkVFNYTkpiVlkwWTBkc2VWbFlVbkJpTWpScFQycEZNVTlFUVhsT2VrMTNUa1JhT1E9PSJ9LCJodHRwczovLzIyMjIyMjIyMjIyMi5ka3IuZWNyLnVzLWVhc3QtMS5hbWF6b25hd3MuY29tIjp7InVzZXJuYW1lIjoiQVdTIiwicGFzc3dvcmQiOiJleUp3WVhsc2IyRmtJam9pV0ZoWVdGaFlXRmdpTENKa1lYUmhhMlY1SWpvaVdWbFpXVmxaV1ZraUxDSjJaWEp6YVc5dUlqb2lNaUlzSW5SNWNHVWlPaUpFUVZSQlgwdEZXU0lzSW1WNGNHbHlZWFJwYjI0aU9qRTFPREF5TnpNd05EWjkiLCJlbWFpbCI6Im5vbmUiLCJhdXRoIjoiUVZkVE9tVjVTbmRaV0d4ellqSkdhMGxxYjJsWFJtaFpWMFpvV1ZkR1oybE1RMHByV1ZoU2FHRXlWalZKYW05cFYxWnNXbGRXYkZwWFZtdHBURU5LTWxwWVNucGhWemwxU1dwdmFVMXBTWE5KYmxJMVkwZFZhVTlwU2tWUlZsSkNXREIwUmxkVFNYTkpiVlkwWTBkc2VWbFlVbkJpTWpScFQycEZNVTlFUVhsT2VrMTNUa1JhT1E9PSJ9LCJodHRwczovLzIyMjIyMjIyMjIyMi5ka3IuZWNyLnVzLXdlc3QtMi5hbWF6b25hd3MuY29tIjp7InVzZXJuYW1lIjoiQVdTIiwicGFzc3dvcmQiOiJleUp3WVhsc2IyRmtJam9pV0ZoWVdGaFlXRmdpTENKa1lYUmhhMlY1SWpvaVdWbFpXVmxaV1ZraUxDSjJaWEp6YVc5dUlqb2lNaUlzSW5SNWNHVWlPaUpFUVZSQlgwdEZXU0lzSW1WNGNHbHlZWFJwYjI0aU9qRTFPREF5TnpNd05EZDkiLCJlbWFpbCI6Im5vbmUiLCJhdXRoIjoiUVZkVE9tVjVTbmRaV0d4ellqSkdhMGxxYjJsWFJtaFpWMFpvV1ZkR1oybE1RMHByV1ZoU2FHRXlWalZKYW05cFYxWnNXbGRXYkZwWFZtdHBURU5LTWxwWVNucGhWemwxU1dwdmFVMXBTWE5KYmxJMVkwZFZhVTlwU2tWUlZsSkNXREIwUmxkVFNYTkpiVlkwWTBkc2VWbFlVbkJpTWpScFQycEZNVTlFUVhsT2VrMTNUa1JrT1E9PSJ9fX0=\"\u001b[0m\u001b[1;39m\n",
      "  \u001b[1;39m}\u001b[0m\u001b[1;39m\n",
      "\u001b[1;39m}\u001b[0m\n"
     ]
    }
   ],
   "source": [
    "<out/10.json jq '{\n",
    "apiVersion: \"v1\",\n",
    "kind: \"Secret\",\n",
    "type: \"kubernetes.io/dockerconfigjson\",\n",
    "metadata: {\n",
    "    name: \"aws-creds\"\n",
    "},\n",
    "data: {\n",
    "    \".dockerconfigjson\": .|tojson|@base64\n",
    "}\n",
    "}' | tee out/11.json | jq"
   ]
  }
 ],
 "metadata": {
  "kernelspec": {
   "display_name": "Bash",
   "language": "bash",
   "name": "bash"
  },
  "language_info": {
   "codemirror_mode": "shell",
   "file_extension": ".sh",
   "mimetype": "text/x-sh",
   "name": "bash"
  }
 },
 "nbformat": 4,
 "nbformat_minor": 4
}
